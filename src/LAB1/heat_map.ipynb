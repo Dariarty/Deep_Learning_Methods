{
 "cells": [
  {
   "cell_type": "markdown",
   "metadata": {},
   "source": [
    "### В данной работе визуализируем тепловую карту изображения\n",
    "\n",
    "Начинаем с подключения библиотек и задания пути к изображению. Выведем исходную картинку."
   ]
  },
  {
   "cell_type": "code",
   "execution_count": null,
   "metadata": {},
   "outputs": [],
   "source": [
    "#Имя входного файла\n",
    "input_file_name = 'images/fish.jpg'\n",
    "\n",
    "import os\n",
    "os.environ['TF_ENABLE_ONEDNN_OPTS'] = '0'\n",
    "os.environ['TF_CPP_MIN_LOG_LEVEL'] = '1'\n",
    "\n",
    "#Импорты необходимых модулей\n",
    "import numpy as np\n",
    "import cv2\n",
    "import matplotlib.pyplot as plt\n",
    "import tensorflow as tf\n",
    "from tensorflow import keras\n",
    "from IPython.display import Image, display\n",
    "from pathlib import Path\n",
    "\n",
    "# Загружаем изображение\n",
    "img_path = Path(input_file_name).resolve()\n",
    "print(\"Исходное изображение - фото золотой рыбки\")\n",
    "display(Image(filename = img_path))"
   ]
  },
  {
   "cell_type": "markdown",
   "metadata": {},
   "source": [
    "### Получение предсказаний при помощи модели VGG16\n",
    "\n",
    "Выполняем препроцессинг изображения, загружаем модель VGG16. Выводим структуру модели и первые 5 предсказаний. Находим класс предсказанного изображения."
   ]
  },
  {
   "cell_type": "code",
   "execution_count": null,
   "metadata": {},
   "outputs": [],
   "source": [
    "#Загружаем изображение и производим препроцессинг\n",
    "img = keras.preprocessing.image.load_img(img_path, target_size=(224, 224))\n",
    "img = keras.preprocessing.image.img_to_array(img)\n",
    "img = np.expand_dims(img, axis=0)\n",
    "img = keras.applications.vgg16.preprocess_input(img)\n",
    "\n",
    "# Загружаем модель VGG16\n",
    "model = keras.applications.VGG16(weights='imagenet', include_top=True)\n",
    "\n",
    "#Получаем предсказания\n",
    "preds = model.predict(img)\n",
    "decoded_preds = keras.applications.vgg16.decode_predictions(preds, top=5)[0];\n",
    "\n",
    "# Вывод структуры модели\n",
    "model.summary()  \n",
    "\n",
    "print('Топ 5 предсказаний:')\n",
    "for pred in decoded_preds:\n",
    "    print('%s - %.4f%%' % (pred[1], pred[2]*100))\n",
    "    \n",
    "#Предсказанный класс изображения\n",
    "predicted_class = np.argmax(preds[0])"
   ]
  },
  {
   "cell_type": "code",
   "execution_count": null,
   "metadata": {},
   "outputs": [],
   "source": [
    "target_layer_name = \"block5_conv3\" # Название слоя, для которого выводим карту активации\n",
    "target_layer_filters = 512 # Количество фильтров в слое\n",
    "\n",
    "# Вычисляем градиенты с помощью GradientTape\n",
    "with tf.GradientTape() as tape:\n",
    "    target_layer = model.get_layer(target_layer_name)\n",
    "    iterate = tf.keras.Model([model.input], [target_layer.output, model.output])\n",
    "    conv_output, predictions = iterate([img])\n",
    "    loss = predictions[:, predicted_class]  # Выбираем значение предсказанного класса\n",
    "    grads = tape.gradient(loss, conv_output)  # Вычисляем градиенты\n",
    "    pooled_grads = tf.reduce_mean(grads, axis=(0, 1, 2))  # Среднее значение градиентов\n",
    "\n",
    "# Корректируем выход свёрточного слоя\n",
    "conv_output = conv_output.numpy()[0]\n",
    "pooled_grads = pooled_grads.numpy()\n",
    "\n",
    "for i in range(target_layer_filters):  \n",
    "    conv_output[:, :, i] *= pooled_grads[i]\n",
    "\n",
    "# Создаём карту активации\n",
    "heatmap = np.mean(conv_output, axis=-1)\n",
    "heatmap = np.maximum(heatmap, 0)\n",
    "heatmap /= np.max(heatmap)\n",
    "\n",
    "# Отображаем карту активации\n",
    "print('Карта активации')\n",
    "plt.matshow(heatmap)\n",
    "plt.show()\n",
    "\n",
    "# Наложение карты на изображение\n",
    "img = cv2.imread(img_path)\n",
    "heatmap = cv2.resize(heatmap, (img.shape[1], img.shape[0]))\n",
    "heatmap = np.uint8(255 * heatmap)\n",
    "heatmap = cv2.applyColorMap(heatmap, cv2.COLORMAP_JET)\n",
    "\n",
    "superimposed_img = heatmap * 0.4 + img\n",
    "superimposed_img = np.clip(superimposed_img, 0, 255).astype(np.uint8)\n",
    "\n",
    "# Сохраняем изображение с наложенной тепловой картой\n",
    "print('Тепловая карта, наложенная на изображение')\n",
    "plt.imshow(superimposed_img)\n",
    "plt.show()\n",
    "\n",
    "#Сохранение тепловой карты и изображения с наложенной тепловой картой в файлы\n",
    "write_success = cv2.imwrite('images/superimposed_image.jpg', superimposed_img)\n",
    "write_success = write_success and cv2.imwrite('images/heat_map.jpg', heatmap)\n",
    "\n",
    "print(\"Изображения успешно сохранены\" if write_success else \"Ошибка сохранения изображений\")"
   ]
  }
 ],
 "metadata": {
  "kernelspec": {
   "display_name": ".venv",
   "language": "python",
   "name": "python3"
  },
  "language_info": {
   "codemirror_mode": {
    "name": "ipython",
    "version": 3
   },
   "file_extension": ".py",
   "mimetype": "text/x-python",
   "name": "python",
   "nbconvert_exporter": "python",
   "pygments_lexer": "ipython3",
   "version": "3.12.7"
  }
 },
 "nbformat": 4,
 "nbformat_minor": 2
}
